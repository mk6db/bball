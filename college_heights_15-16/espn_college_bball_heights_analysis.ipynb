{
 "cells": [
  {
   "cell_type": "code",
   "execution_count": 1,
   "metadata": {
    "collapsed": true
   },
   "outputs": [],
   "source": [
    "# imports\n",
    "import pandas as pd\n",
    "import numpy as np\n",
    "import matplotlib.pyplot as plt\n",
    "%matplotlib inline"
   ]
  },
  {
   "cell_type": "code",
   "execution_count": 8,
   "metadata": {
    "collapsed": false
   },
   "outputs": [],
   "source": [
    "# pull in data\n",
    "file_link = 'C:/Users/Michael/projects/bball/college_heights/espn_college_bball_heights_scrape.csv'\n",
    "data = pd.read_csv(file_link)"
   ]
  },
  {
   "cell_type": "code",
   "execution_count": 10,
   "metadata": {
    "collapsed": false
   },
   "outputs": [
    {
     "data": {
      "text/html": [
       "<div>\n",
       "<table border=\"1\" class=\"dataframe\">\n",
       "  <thead>\n",
       "    <tr style=\"text-align: right;\">\n",
       "      <th></th>\n",
       "      <th>player_height</th>\n",
       "      <th>player_name</th>\n",
       "      <th>team_conference</th>\n",
       "      <th>team_name</th>\n",
       "      <th>player_height_in</th>\n",
       "    </tr>\n",
       "  </thead>\n",
       "  <tbody>\n",
       "    <tr>\n",
       "      <th>0</th>\n",
       "      <td>6-4</td>\n",
       "      <td>Everett Osborne</td>\n",
       "      <td>Western Athletic Conference</td>\n",
       "      <td>UT-Rio Grande</td>\n",
       "      <td>76</td>\n",
       "    </tr>\n",
       "    <tr>\n",
       "      <th>1</th>\n",
       "      <td>6-2</td>\n",
       "      <td>Mike Lopez</td>\n",
       "      <td>Western Athletic Conference</td>\n",
       "      <td>UT-Rio Grande</td>\n",
       "      <td>74</td>\n",
       "    </tr>\n",
       "    <tr>\n",
       "      <th>2</th>\n",
       "      <td>6-0</td>\n",
       "      <td>J.J. Thompson</td>\n",
       "      <td>Western Athletic Conference</td>\n",
       "      <td>UT-Rio Grande</td>\n",
       "      <td>72</td>\n",
       "    </tr>\n",
       "    <tr>\n",
       "      <th>3</th>\n",
       "      <td>6-2</td>\n",
       "      <td>Nick Dixon</td>\n",
       "      <td>Western Athletic Conference</td>\n",
       "      <td>UT-Rio Grande</td>\n",
       "      <td>74</td>\n",
       "    </tr>\n",
       "    <tr>\n",
       "      <th>4</th>\n",
       "      <td>6-1</td>\n",
       "      <td>Lew Stallworth</td>\n",
       "      <td>Western Athletic Conference</td>\n",
       "      <td>UT-Rio Grande</td>\n",
       "      <td>73</td>\n",
       "    </tr>\n",
       "  </tbody>\n",
       "</table>\n",
       "</div>"
      ],
      "text/plain": [
       "  player_height      player_name              team_conference      team_name  \\\n",
       "0           6-4  Everett Osborne  Western Athletic Conference  UT-Rio Grande   \n",
       "1           6-2       Mike Lopez  Western Athletic Conference  UT-Rio Grande   \n",
       "2           6-0    J.J. Thompson  Western Athletic Conference  UT-Rio Grande   \n",
       "3           6-2       Nick Dixon  Western Athletic Conference  UT-Rio Grande   \n",
       "4           6-1   Lew Stallworth  Western Athletic Conference  UT-Rio Grande   \n",
       "\n",
       "   player_height_in  \n",
       "0                76  \n",
       "1                74  \n",
       "2                72  \n",
       "3                74  \n",
       "4                73  "
      ]
     },
     "execution_count": 10,
     "metadata": {},
     "output_type": "execute_result"
    }
   ],
   "source": [
    "# drop first column and sample data\n",
    "data = data.iloc[:,1:]\n",
    "data.head()"
   ]
  },
  {
   "cell_type": "code",
   "execution_count": 16,
   "metadata": {
    "collapsed": false
   },
   "outputs": [
    {
     "data": {
      "text/html": [
       "<div>\n",
       "<table border=\"1\" class=\"dataframe\">\n",
       "  <thead>\n",
       "    <tr style=\"text-align: right;\">\n",
       "      <th></th>\n",
       "      <th>player_height</th>\n",
       "      <th>player_name</th>\n",
       "      <th>team_conference</th>\n",
       "      <th>team_name</th>\n",
       "      <th>player_height_in</th>\n",
       "    </tr>\n",
       "  </thead>\n",
       "  <tbody>\n",
       "    <tr>\n",
       "      <th>134</th>\n",
       "      <td>7-6</td>\n",
       "      <td>Mamadou Ndiaye</td>\n",
       "      <td>Big West Conference</td>\n",
       "      <td>UC Irvine</td>\n",
       "      <td>90</td>\n",
       "    </tr>\n",
       "    <tr>\n",
       "      <th>2402</th>\n",
       "      <td>7-6</td>\n",
       "      <td>Tacko Fall</td>\n",
       "      <td>American Athletic Conference</td>\n",
       "      <td>UCF</td>\n",
       "      <td>90</td>\n",
       "    </tr>\n",
       "  </tbody>\n",
       "</table>\n",
       "</div>"
      ],
      "text/plain": [
       "     player_height     player_name               team_conference  team_name  \\\n",
       "134            7-6  Mamadou Ndiaye           Big West Conference  UC Irvine   \n",
       "2402           7-6      Tacko Fall  American Athletic Conference        UCF   \n",
       "\n",
       "      player_height_in  \n",
       "134                 90  \n",
       "2402                90  "
      ]
     },
     "execution_count": 16,
     "metadata": {},
     "output_type": "execute_result"
    }
   ],
   "source": [
    "# who is the tallest player?\n",
    "data[data.player_height_in == data.player_height_in.max()]"
   ]
  },
  {
   "cell_type": "code",
   "execution_count": 58,
   "metadata": {
    "collapsed": false
   },
   "outputs": [
    {
     "data": {
      "text/plain": [
       "team_name\n",
       "FSU             79.533333\n",
       "Duke            79.384615\n",
       "USC             79.307692\n",
       "UVA             79.142857\n",
       "Oregon State    79.000000\n",
       "Georgetown      78.923077\n",
       "W Kentucky      78.750000\n",
       "Northwestern    78.666667\n",
       "Xavier          78.642857\n",
       "Notre Dame      78.642857\n",
       "Name: player_height_in, dtype: float64"
      ]
     },
     "execution_count": 58,
     "metadata": {},
     "output_type": "execute_result"
    }
   ],
   "source": [
    "# which teams are the tallest?\n",
    "team_data = data.groupby('team_name').player_height_in.mean()\n",
    "team_data.sort('player_height_in',ascending=False)\n",
    "team_data.head(10)"
   ]
  },
  {
   "cell_type": "code",
   "execution_count": 59,
   "metadata": {
    "collapsed": false
   },
   "outputs": [
    {
     "data": {
      "text/plain": [
       "team_name\n",
       "Radford             75.062500\n",
       "UMass Lowell        75.142857\n",
       "Lamar               75.187500\n",
       "St Francis (BKN)    75.200000\n",
       "Howard              75.222222\n",
       "Campbell            75.238095\n",
       "Maine               75.529412\n",
       "Miss Valley St      75.555556\n",
       "New Orleans         75.588235\n",
       "Austin Peay         75.600000\n",
       "Name: player_height_in, dtype: float64"
      ]
     },
     "execution_count": 59,
     "metadata": {},
     "output_type": "execute_result"
    }
   ],
   "source": [
    "# which teams are the shortest?\n",
    "team_data.sort('player_height_in',ascending=True)\n",
    "team_data.head(10)"
   ]
  },
  {
   "cell_type": "code",
   "execution_count": 55,
   "metadata": {
    "collapsed": false
   },
   "outputs": [
    {
     "data": {
      "text/plain": [
       "team_conference\n",
       "Atlantic Coast Conference       77.872247\n",
       "Pac-12 Conference               77.845238\n",
       "Big East Conference             77.684932\n",
       "American Athletic Conference    77.626667\n",
       "Big Ten Conference              77.600000\n",
       "Mountain West Conference        77.514970\n",
       "Big 12 Conference               77.342857\n",
       "Southeastern Conference         77.320000\n",
       "West Coast Conference           77.312057\n",
       "Western Athletic Conference     77.232143\n",
       "Name: player_height_in, dtype: float64"
      ]
     },
     "execution_count": 55,
     "metadata": {},
     "output_type": "execute_result"
    }
   ],
   "source": [
    "# which conference is the tallest?\n",
    "conference_data = data.groupby('team_conference').player_height_in.mean()\n",
    "conference_data.sort('player_height_in',ascending=False)\n",
    "conference_data.head(10)"
   ]
  },
  {
   "cell_type": "code",
   "execution_count": 56,
   "metadata": {
    "collapsed": false
   },
   "outputs": [
    {
     "data": {
      "text/plain": [
       "team_conference\n",
       "Big South Conference                75.941176\n",
       "Northeast Conference                76.155556\n",
       "Southland Conference                76.162304\n",
       "Mid-Eastern Athletic Conference     76.327957\n",
       "Southwestern Athletic Conference    76.346591\n",
       "America East Conference             76.403101\n",
       "Big Sky Conference                  76.463687\n",
       "Ohio Valley - West                  76.481928\n",
       "Sun Belt Conference                 76.519737\n",
       "Atlantic Sun Conference             76.616071\n",
       "Name: player_height_in, dtype: float64"
      ]
     },
     "execution_count": 56,
     "metadata": {},
     "output_type": "execute_result"
    }
   ],
   "source": [
    "# which conference is the shortest?\n",
    "conference_data.sort('player_height_in',ascending=True)\n",
    "conference_data.head(10)"
   ]
  },
  {
   "cell_type": "code",
   "execution_count": 61,
   "metadata": {
    "collapsed": false
   },
   "outputs": [
    {
     "data": {
      "text/plain": [
       "team_name\n",
       "UC Irvine        31.129167\n",
       "George Mason     27.412088\n",
       "Maryland         26.910256\n",
       "Drake            24.900000\n",
       "Mt St Mary's     23.970588\n",
       "E Illinois       23.032967\n",
       "Presbyterian     22.308824\n",
       "Sacramento St    21.956044\n",
       "Syracuse         21.321637\n",
       "Hawaii           21.254545\n",
       "Name: player_height_in, dtype: float64"
      ]
     },
     "execution_count": 61,
     "metadata": {},
     "output_type": "execute_result"
    }
   ],
   "source": [
    "# which team has the highest variance in height?\n",
    "team_data_var = data.groupby('team_name').player_height_in.var()\n",
    "team_data_var.sort('player_height_in',ascending=False)\n",
    "team_data_var.head(10)"
   ]
  },
  {
   "cell_type": "code",
   "execution_count": 64,
   "metadata": {
    "collapsed": false
   },
   "outputs": [
    {
     "data": {
      "text/html": [
       "<div>\n",
       "<table border=\"1\" class=\"dataframe\">\n",
       "  <thead>\n",
       "    <tr style=\"text-align: right;\">\n",
       "      <th></th>\n",
       "      <th>player_height</th>\n",
       "      <th>player_name</th>\n",
       "      <th>team_conference</th>\n",
       "      <th>team_name</th>\n",
       "      <th>player_height_in</th>\n",
       "    </tr>\n",
       "  </thead>\n",
       "  <tbody>\n",
       "    <tr>\n",
       "      <th>119</th>\n",
       "      <td>5-10</td>\n",
       "      <td>Jaron Martin</td>\n",
       "      <td>Big West Conference</td>\n",
       "      <td>UC Irvine</td>\n",
       "      <td>70</td>\n",
       "    </tr>\n",
       "    <tr>\n",
       "      <th>120</th>\n",
       "      <td>6-2</td>\n",
       "      <td>Alex Young</td>\n",
       "      <td>Big West Conference</td>\n",
       "      <td>UC Irvine</td>\n",
       "      <td>74</td>\n",
       "    </tr>\n",
       "    <tr>\n",
       "      <th>121</th>\n",
       "      <td>5-10</td>\n",
       "      <td>Max Hazzard</td>\n",
       "      <td>Big West Conference</td>\n",
       "      <td>UC Irvine</td>\n",
       "      <td>70</td>\n",
       "    </tr>\n",
       "    <tr>\n",
       "      <th>122</th>\n",
       "      <td>6-1</td>\n",
       "      <td>Haitham Chehabi</td>\n",
       "      <td>Big West Conference</td>\n",
       "      <td>UC Irvine</td>\n",
       "      <td>73</td>\n",
       "    </tr>\n",
       "    <tr>\n",
       "      <th>123</th>\n",
       "      <td>6-10</td>\n",
       "      <td>Jonathan Galloway</td>\n",
       "      <td>Big West Conference</td>\n",
       "      <td>UC Irvine</td>\n",
       "      <td>82</td>\n",
       "    </tr>\n",
       "    <tr>\n",
       "      <th>124</th>\n",
       "      <td>6-3</td>\n",
       "      <td>Luke Nelson</td>\n",
       "      <td>Big West Conference</td>\n",
       "      <td>UC Irvine</td>\n",
       "      <td>75</td>\n",
       "    </tr>\n",
       "    <tr>\n",
       "      <th>125</th>\n",
       "      <td>6-1</td>\n",
       "      <td>Haroldas Saprykinas</td>\n",
       "      <td>Big West Conference</td>\n",
       "      <td>UC Irvine</td>\n",
       "      <td>73</td>\n",
       "    </tr>\n",
       "    <tr>\n",
       "      <th>126</th>\n",
       "      <td>7-2</td>\n",
       "      <td>Ioannis Dimakopoulos</td>\n",
       "      <td>Big West Conference</td>\n",
       "      <td>UC Irvine</td>\n",
       "      <td>86</td>\n",
       "    </tr>\n",
       "    <tr>\n",
       "      <th>127</th>\n",
       "      <td>6-5</td>\n",
       "      <td>Brandon Smith</td>\n",
       "      <td>Big West Conference</td>\n",
       "      <td>UC Irvine</td>\n",
       "      <td>77</td>\n",
       "    </tr>\n",
       "    <tr>\n",
       "      <th>128</th>\n",
       "      <td>6-8</td>\n",
       "      <td>Shawn Ray</td>\n",
       "      <td>Big West Conference</td>\n",
       "      <td>UC Irvine</td>\n",
       "      <td>80</td>\n",
       "    </tr>\n",
       "    <tr>\n",
       "      <th>129</th>\n",
       "      <td>6-4</td>\n",
       "      <td>Darrian Traylor</td>\n",
       "      <td>Big West Conference</td>\n",
       "      <td>UC Irvine</td>\n",
       "      <td>76</td>\n",
       "    </tr>\n",
       "    <tr>\n",
       "      <th>130</th>\n",
       "      <td>6-4</td>\n",
       "      <td>Dominique Dunning</td>\n",
       "      <td>Big West Conference</td>\n",
       "      <td>UC Irvine</td>\n",
       "      <td>76</td>\n",
       "    </tr>\n",
       "    <tr>\n",
       "      <th>131</th>\n",
       "      <td>6-2</td>\n",
       "      <td>Spencer Rivers</td>\n",
       "      <td>Big West Conference</td>\n",
       "      <td>UC Irvine</td>\n",
       "      <td>74</td>\n",
       "    </tr>\n",
       "    <tr>\n",
       "      <th>132</th>\n",
       "      <td>6-3</td>\n",
       "      <td>Aaron Wright</td>\n",
       "      <td>Big West Conference</td>\n",
       "      <td>UC Irvine</td>\n",
       "      <td>75</td>\n",
       "    </tr>\n",
       "    <tr>\n",
       "      <th>133</th>\n",
       "      <td>6-10</td>\n",
       "      <td>Mike Best</td>\n",
       "      <td>Big West Conference</td>\n",
       "      <td>UC Irvine</td>\n",
       "      <td>82</td>\n",
       "    </tr>\n",
       "    <tr>\n",
       "      <th>134</th>\n",
       "      <td>7-6</td>\n",
       "      <td>Mamadou Ndiaye</td>\n",
       "      <td>Big West Conference</td>\n",
       "      <td>UC Irvine</td>\n",
       "      <td>90</td>\n",
       "    </tr>\n",
       "  </tbody>\n",
       "</table>\n",
       "</div>"
      ],
      "text/plain": [
       "    player_height           player_name      team_conference  team_name  \\\n",
       "119          5-10          Jaron Martin  Big West Conference  UC Irvine   \n",
       "120           6-2            Alex Young  Big West Conference  UC Irvine   \n",
       "121          5-10           Max Hazzard  Big West Conference  UC Irvine   \n",
       "122           6-1       Haitham Chehabi  Big West Conference  UC Irvine   \n",
       "123          6-10     Jonathan Galloway  Big West Conference  UC Irvine   \n",
       "124           6-3           Luke Nelson  Big West Conference  UC Irvine   \n",
       "125           6-1   Haroldas Saprykinas  Big West Conference  UC Irvine   \n",
       "126           7-2  Ioannis Dimakopoulos  Big West Conference  UC Irvine   \n",
       "127           6-5         Brandon Smith  Big West Conference  UC Irvine   \n",
       "128           6-8             Shawn Ray  Big West Conference  UC Irvine   \n",
       "129           6-4       Darrian Traylor  Big West Conference  UC Irvine   \n",
       "130           6-4     Dominique Dunning  Big West Conference  UC Irvine   \n",
       "131           6-2        Spencer Rivers  Big West Conference  UC Irvine   \n",
       "132           6-3          Aaron Wright  Big West Conference  UC Irvine   \n",
       "133          6-10             Mike Best  Big West Conference  UC Irvine   \n",
       "134           7-6        Mamadou Ndiaye  Big West Conference  UC Irvine   \n",
       "\n",
       "     player_height_in  \n",
       "119                70  \n",
       "120                74  \n",
       "121                70  \n",
       "122                73  \n",
       "123                82  \n",
       "124                75  \n",
       "125                73  \n",
       "126                86  \n",
       "127                77  \n",
       "128                80  \n",
       "129                76  \n",
       "130                76  \n",
       "131                74  \n",
       "132                75  \n",
       "133                82  \n",
       "134                90  "
      ]
     },
     "execution_count": 64,
     "metadata": {},
     "output_type": "execute_result"
    }
   ],
   "source": [
    "# UC Irving roster detail\n",
    "data[data.team_name == 'UC Irvine']"
   ]
  },
  {
   "cell_type": "code",
   "execution_count": 62,
   "metadata": {
    "collapsed": false
   },
   "outputs": [
    {
     "data": {
      "text/plain": [
       "team_name\n",
       "Iowa State         4.242424\n",
       "VMI                4.488889\n",
       "North Dakota St    4.600000\n",
       "Towson             5.589744\n",
       "Southern Utah      5.611111\n",
       "High Point         5.735294\n",
       "San Diego          5.800000\n",
       "Marist             6.064103\n",
       "Drexel             6.090909\n",
       "UNC Asheville      6.123810\n",
       "Name: player_height_in, dtype: float64"
      ]
     },
     "execution_count": 62,
     "metadata": {},
     "output_type": "execute_result"
    }
   ],
   "source": [
    "# which team has the lowest variance in height?\n",
    "team_data_var.sort('player_height_in',ascending=True)\n",
    "team_data_var.head(10)"
   ]
  },
  {
   "cell_type": "code",
   "execution_count": 68,
   "metadata": {
    "collapsed": false
   },
   "outputs": [
    {
     "data": {
      "text/html": [
       "<div>\n",
       "<table border=\"1\" class=\"dataframe\">\n",
       "  <thead>\n",
       "    <tr style=\"text-align: right;\">\n",
       "      <th></th>\n",
       "      <th>player_height</th>\n",
       "      <th>player_name</th>\n",
       "      <th>team_conference</th>\n",
       "      <th>team_name</th>\n",
       "      <th>player_height_in</th>\n",
       "    </tr>\n",
       "  </thead>\n",
       "  <tbody>\n",
       "    <tr>\n",
       "      <th>700</th>\n",
       "      <td>6-5</td>\n",
       "      <td>Devon Hall</td>\n",
       "      <td>Atlantic Coast Conference</td>\n",
       "      <td>UVA</td>\n",
       "      <td>77</td>\n",
       "    </tr>\n",
       "    <tr>\n",
       "      <th>701</th>\n",
       "      <td>6-5</td>\n",
       "      <td>Marial Shayok</td>\n",
       "      <td>Atlantic Coast Conference</td>\n",
       "      <td>UVA</td>\n",
       "      <td>77</td>\n",
       "    </tr>\n",
       "    <tr>\n",
       "      <th>702</th>\n",
       "      <td>7-1</td>\n",
       "      <td>Mike Tobey</td>\n",
       "      <td>Atlantic Coast Conference</td>\n",
       "      <td>UVA</td>\n",
       "      <td>85</td>\n",
       "    </tr>\n",
       "    <tr>\n",
       "      <th>703</th>\n",
       "      <td>6-8</td>\n",
       "      <td>Evan Nolte</td>\n",
       "      <td>Atlantic Coast Conference</td>\n",
       "      <td>UVA</td>\n",
       "      <td>80</td>\n",
       "    </tr>\n",
       "    <tr>\n",
       "      <th>704</th>\n",
       "      <td>6-8</td>\n",
       "      <td>Anthony Gill</td>\n",
       "      <td>Atlantic Coast Conference</td>\n",
       "      <td>UVA</td>\n",
       "      <td>80</td>\n",
       "    </tr>\n",
       "    <tr>\n",
       "      <th>705</th>\n",
       "      <td>6-5</td>\n",
       "      <td>Malcolm Brogdon</td>\n",
       "      <td>Atlantic Coast Conference</td>\n",
       "      <td>UVA</td>\n",
       "      <td>77</td>\n",
       "    </tr>\n",
       "    <tr>\n",
       "      <th>706</th>\n",
       "      <td>6-7</td>\n",
       "      <td>Isaiah Wilkins</td>\n",
       "      <td>Atlantic Coast Conference</td>\n",
       "      <td>UVA</td>\n",
       "      <td>79</td>\n",
       "    </tr>\n",
       "    <tr>\n",
       "      <th>707</th>\n",
       "      <td>6-8</td>\n",
       "      <td>Jarred Reuter</td>\n",
       "      <td>Atlantic Coast Conference</td>\n",
       "      <td>UVA</td>\n",
       "      <td>80</td>\n",
       "    </tr>\n",
       "    <tr>\n",
       "      <th>708</th>\n",
       "      <td>6-2</td>\n",
       "      <td>London Perrantes</td>\n",
       "      <td>Atlantic Coast Conference</td>\n",
       "      <td>UVA</td>\n",
       "      <td>74</td>\n",
       "    </tr>\n",
       "    <tr>\n",
       "      <th>709</th>\n",
       "      <td>6-11</td>\n",
       "      <td>Jack Salt</td>\n",
       "      <td>Atlantic Coast Conference</td>\n",
       "      <td>UVA</td>\n",
       "      <td>83</td>\n",
       "    </tr>\n",
       "    <tr>\n",
       "      <th>710</th>\n",
       "      <td>6-6</td>\n",
       "      <td>Jeff Jones</td>\n",
       "      <td>Atlantic Coast Conference</td>\n",
       "      <td>UVA</td>\n",
       "      <td>78</td>\n",
       "    </tr>\n",
       "    <tr>\n",
       "      <th>711</th>\n",
       "      <td>6-4</td>\n",
       "      <td>Darius Thompson</td>\n",
       "      <td>Atlantic Coast Conference</td>\n",
       "      <td>UVA</td>\n",
       "      <td>76</td>\n",
       "    </tr>\n",
       "    <tr>\n",
       "      <th>712</th>\n",
       "      <td>6-9</td>\n",
       "      <td>Austin Nichols</td>\n",
       "      <td>Atlantic Coast Conference</td>\n",
       "      <td>UVA</td>\n",
       "      <td>81</td>\n",
       "    </tr>\n",
       "    <tr>\n",
       "      <th>713</th>\n",
       "      <td>6-9</td>\n",
       "      <td>Caid Kirven</td>\n",
       "      <td>Atlantic Coast Conference</td>\n",
       "      <td>UVA</td>\n",
       "      <td>81</td>\n",
       "    </tr>\n",
       "  </tbody>\n",
       "</table>\n",
       "</div>"
      ],
      "text/plain": [
       "    player_height       player_name            team_conference team_name  \\\n",
       "700           6-5        Devon Hall  Atlantic Coast Conference       UVA   \n",
       "701           6-5     Marial Shayok  Atlantic Coast Conference       UVA   \n",
       "702           7-1        Mike Tobey  Atlantic Coast Conference       UVA   \n",
       "703           6-8        Evan Nolte  Atlantic Coast Conference       UVA   \n",
       "704           6-8      Anthony Gill  Atlantic Coast Conference       UVA   \n",
       "705           6-5   Malcolm Brogdon  Atlantic Coast Conference       UVA   \n",
       "706           6-7    Isaiah Wilkins  Atlantic Coast Conference       UVA   \n",
       "707           6-8     Jarred Reuter  Atlantic Coast Conference       UVA   \n",
       "708           6-2  London Perrantes  Atlantic Coast Conference       UVA   \n",
       "709          6-11         Jack Salt  Atlantic Coast Conference       UVA   \n",
       "710           6-6        Jeff Jones  Atlantic Coast Conference       UVA   \n",
       "711           6-4   Darius Thompson  Atlantic Coast Conference       UVA   \n",
       "712           6-9    Austin Nichols  Atlantic Coast Conference       UVA   \n",
       "713           6-9       Caid Kirven  Atlantic Coast Conference       UVA   \n",
       "\n",
       "     player_height_in  \n",
       "700                77  \n",
       "701                77  \n",
       "702                85  \n",
       "703                80  \n",
       "704                80  \n",
       "705                77  \n",
       "706                79  \n",
       "707                80  \n",
       "708                74  \n",
       "709                83  \n",
       "710                78  \n",
       "711                76  \n",
       "712                81  \n",
       "713                81  "
      ]
     },
     "execution_count": 68,
     "metadata": {},
     "output_type": "execute_result"
    }
   ],
   "source": [
    "# UVA roster detail\n",
    "data[data.team_name == 'UVA']"
   ]
  },
  {
   "cell_type": "code",
   "execution_count": null,
   "metadata": {
    "collapsed": true
   },
   "outputs": [],
   "source": []
  }
 ],
 "metadata": {
  "kernelspec": {
   "display_name": "Python 2",
   "language": "python",
   "name": "python2"
  },
  "language_info": {
   "codemirror_mode": {
    "name": "ipython",
    "version": 2
   },
   "file_extension": ".py",
   "mimetype": "text/x-python",
   "name": "python",
   "nbconvert_exporter": "python",
   "pygments_lexer": "ipython2",
   "version": "2.7.10"
  }
 },
 "nbformat": 4,
 "nbformat_minor": 0
}
