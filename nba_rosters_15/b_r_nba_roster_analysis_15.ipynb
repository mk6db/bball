{
 "cells": [
  {
   "cell_type": "code",
   "execution_count": 1,
   "metadata": {
    "collapsed": true
   },
   "outputs": [],
   "source": [
    "# imports\n",
    "import pandas as pd\n",
    "import numpy as np\n",
    "import matplotlib.pyplot as plt\n",
    "%matplotlib inline"
   ]
  },
  {
   "cell_type": "code",
   "execution_count": 30,
   "metadata": {
    "collapsed": true
   },
   "outputs": [],
   "source": [
    "# pull in data\n",
    "file_link = 'C:/Users/Michael/projects/bball/nba_rosters_15/b_r_nba_heights_scrape.csv'\n",
    "data = pd.read_csv(file_link)"
   ]
  },
  {
   "cell_type": "code",
   "execution_count": 42,
   "metadata": {
    "collapsed": false
   },
   "outputs": [
    {
     "data": {
      "text/html": [
       "<div>\n",
       "<table border=\"1\" class=\"dataframe\">\n",
       "  <thead>\n",
       "    <tr style=\"text-align: right;\">\n",
       "      <th></th>\n",
       "      <th>Team</th>\n",
       "      <th>No</th>\n",
       "      <th>Player</th>\n",
       "      <th>Pos</th>\n",
       "      <th>Ht</th>\n",
       "      <th>Wt</th>\n",
       "      <th>Birth_Date</th>\n",
       "      <th>Exp</th>\n",
       "      <th>College</th>\n",
       "      <th>ht_in</th>\n",
       "      <th>...</th>\n",
       "      <th>FT_PCT</th>\n",
       "      <th>ORB</th>\n",
       "      <th>DRB</th>\n",
       "      <th>TRB</th>\n",
       "      <th>AST</th>\n",
       "      <th>STL</th>\n",
       "      <th>BLK</th>\n",
       "      <th>TOV</th>\n",
       "      <th>PF</th>\n",
       "      <th>PTS</th>\n",
       "    </tr>\n",
       "  </thead>\n",
       "  <tbody>\n",
       "    <tr>\n",
       "      <th>0</th>\n",
       "      <td>LAL</td>\n",
       "      <td>28</td>\n",
       "      <td>Tarik Black</td>\n",
       "      <td>C</td>\n",
       "      <td>6-9</td>\n",
       "      <td>257</td>\n",
       "      <td>November 22, 1991</td>\n",
       "      <td>R</td>\n",
       "      <td>University of Kansas</td>\n",
       "      <td>81</td>\n",
       "      <td>...</td>\n",
       "      <td>0.562</td>\n",
       "      <td>84</td>\n",
       "      <td>157</td>\n",
       "      <td>241</td>\n",
       "      <td>34</td>\n",
       "      <td>13</td>\n",
       "      <td>22</td>\n",
       "      <td>29</td>\n",
       "      <td>102</td>\n",
       "      <td>274</td>\n",
       "    </tr>\n",
       "    <tr>\n",
       "      <th>1</th>\n",
       "      <td>LAL</td>\n",
       "      <td>12</td>\n",
       "      <td>Vander Blue</td>\n",
       "      <td>SG</td>\n",
       "      <td>6-4</td>\n",
       "      <td>200</td>\n",
       "      <td>July 17, 1992</td>\n",
       "      <td>1</td>\n",
       "      <td>Marquette University</td>\n",
       "      <td>76</td>\n",
       "      <td>...</td>\n",
       "      <td>0.400</td>\n",
       "      <td>2</td>\n",
       "      <td>7</td>\n",
       "      <td>9</td>\n",
       "      <td>8</td>\n",
       "      <td>3</td>\n",
       "      <td>0</td>\n",
       "      <td>6</td>\n",
       "      <td>4</td>\n",
       "      <td>22</td>\n",
       "    </tr>\n",
       "    <tr>\n",
       "      <th>2</th>\n",
       "      <td>LAL</td>\n",
       "      <td>5</td>\n",
       "      <td>Carlos Boozer</td>\n",
       "      <td>PF</td>\n",
       "      <td>6-9</td>\n",
       "      <td>258</td>\n",
       "      <td>November 20, 1981</td>\n",
       "      <td>12</td>\n",
       "      <td>Duke University</td>\n",
       "      <td>81</td>\n",
       "      <td>...</td>\n",
       "      <td>0.627</td>\n",
       "      <td>111</td>\n",
       "      <td>371</td>\n",
       "      <td>482</td>\n",
       "      <td>95</td>\n",
       "      <td>41</td>\n",
       "      <td>12</td>\n",
       "      <td>92</td>\n",
       "      <td>184</td>\n",
       "      <td>836</td>\n",
       "    </tr>\n",
       "    <tr>\n",
       "      <th>3</th>\n",
       "      <td>LAL</td>\n",
       "      <td>15</td>\n",
       "      <td>Jabari Brown</td>\n",
       "      <td>SG</td>\n",
       "      <td>6-6</td>\n",
       "      <td>214</td>\n",
       "      <td>December 18, 1992</td>\n",
       "      <td>R</td>\n",
       "      <td>University of Missouri</td>\n",
       "      <td>78</td>\n",
       "      <td>...</td>\n",
       "      <td>0.753</td>\n",
       "      <td>3</td>\n",
       "      <td>33</td>\n",
       "      <td>36</td>\n",
       "      <td>40</td>\n",
       "      <td>12</td>\n",
       "      <td>2</td>\n",
       "      <td>32</td>\n",
       "      <td>33</td>\n",
       "      <td>227</td>\n",
       "    </tr>\n",
       "    <tr>\n",
       "      <th>4</th>\n",
       "      <td>LAL</td>\n",
       "      <td>24</td>\n",
       "      <td>Kobe Bryant</td>\n",
       "      <td>SG</td>\n",
       "      <td>6-6</td>\n",
       "      <td>200</td>\n",
       "      <td>August 23, 1978</td>\n",
       "      <td>18</td>\n",
       "      <td>NaN</td>\n",
       "      <td>78</td>\n",
       "      <td>...</td>\n",
       "      <td>0.813</td>\n",
       "      <td>26</td>\n",
       "      <td>173</td>\n",
       "      <td>199</td>\n",
       "      <td>197</td>\n",
       "      <td>47</td>\n",
       "      <td>7</td>\n",
       "      <td>128</td>\n",
       "      <td>65</td>\n",
       "      <td>782</td>\n",
       "    </tr>\n",
       "  </tbody>\n",
       "</table>\n",
       "<p>5 rows × 36 columns</p>\n",
       "</div>"
      ],
      "text/plain": [
       "  Team  No         Player Pos   Ht   Wt         Birth_Date Exp  \\\n",
       "0  LAL  28    Tarik Black   C  6-9  257  November 22, 1991   R   \n",
       "1  LAL  12    Vander Blue  SG  6-4  200      July 17, 1992   1   \n",
       "2  LAL   5  Carlos Boozer  PF  6-9  258  November 20, 1981  12   \n",
       "3  LAL  15   Jabari Brown  SG  6-6  214  December 18, 1992   R   \n",
       "4  LAL  24    Kobe Bryant  SG  6-6  200    August 23, 1978  18   \n",
       "\n",
       "                  College  ht_in ...   FT_PCT  ORB  DRB  TRB  AST  STL  BLK  \\\n",
       "0    University of Kansas     81 ...    0.562   84  157  241   34   13   22   \n",
       "1    Marquette University     76 ...    0.400    2    7    9    8    3    0   \n",
       "2         Duke University     81 ...    0.627  111  371  482   95   41   12   \n",
       "3  University of Missouri     78 ...    0.753    3   33   36   40   12    2   \n",
       "4                     NaN     78 ...    0.813   26  173  199  197   47    7   \n",
       "\n",
       "   TOV   PF  PTS  \n",
       "0   29  102  274  \n",
       "1    6    4   22  \n",
       "2   92  184  836  \n",
       "3   32   33  227  \n",
       "4  128   65  782  \n",
       "\n",
       "[5 rows x 36 columns]"
      ]
     },
     "execution_count": 42,
     "metadata": {},
     "output_type": "execute_result"
    }
   ],
   "source": [
    "# drop first column and sample data\n",
    "data = data.iloc[:,1:]\n",
    "data.head()"
   ]
  },
  {
   "cell_type": "code",
   "execution_count": 6,
   "metadata": {
    "collapsed": false
   },
   "outputs": [
    {
     "data": {
      "text/plain": [
       "['Team',\n",
       " 'No',\n",
       " 'Player',\n",
       " 'Pos',\n",
       " 'Ht',\n",
       " 'Wt',\n",
       " 'Birth_Date',\n",
       " 'Exp',\n",
       " 'College',\n",
       " 'ht_in',\n",
       " 'Age',\n",
       " 'G',\n",
       " 'GS',\n",
       " 'MP',\n",
       " 'FG',\n",
       " 'FGA',\n",
       " 'FG_PCT',\n",
       " 'FG3',\n",
       " 'FG3A',\n",
       " 'FG3_PCT',\n",
       " 'FG2',\n",
       " 'FG2A',\n",
       " 'FG2_PCT',\n",
       " 'EFG_PCT',\n",
       " 'FT',\n",
       " 'FTA',\n",
       " 'FT_PCT',\n",
       " 'ORB',\n",
       " 'DRB',\n",
       " 'TRB',\n",
       " 'AST',\n",
       " 'STL',\n",
       " 'BLK',\n",
       " 'TOV',\n",
       " 'PF',\n",
       " 'PTS']"
      ]
     },
     "execution_count": 6,
     "metadata": {},
     "output_type": "execute_result"
    }
   ],
   "source": [
    "# list out column names\n",
    "list(data.columns)"
   ]
  },
  {
   "cell_type": "code",
   "execution_count": 7,
   "metadata": {
    "collapsed": false,
    "scrolled": true
   },
   "outputs": [
    {
     "data": {
      "text/html": [
       "<div>\n",
       "<table border=\"1\" class=\"dataframe\">\n",
       "  <thead>\n",
       "    <tr style=\"text-align: right;\">\n",
       "      <th></th>\n",
       "      <th>Team</th>\n",
       "      <th>No</th>\n",
       "      <th>Player</th>\n",
       "      <th>Pos</th>\n",
       "      <th>Ht</th>\n",
       "      <th>Wt</th>\n",
       "      <th>Birth_Date</th>\n",
       "      <th>Exp</th>\n",
       "      <th>College</th>\n",
       "      <th>ht_in</th>\n",
       "      <th>...</th>\n",
       "      <th>FT_PCT</th>\n",
       "      <th>ORB</th>\n",
       "      <th>DRB</th>\n",
       "      <th>TRB</th>\n",
       "      <th>AST</th>\n",
       "      <th>STL</th>\n",
       "      <th>BLK</th>\n",
       "      <th>TOV</th>\n",
       "      <th>PF</th>\n",
       "      <th>PTS</th>\n",
       "    </tr>\n",
       "  </thead>\n",
       "  <tbody>\n",
       "    <tr>\n",
       "      <th>307</th>\n",
       "      <td>SAC</td>\n",
       "      <td>32</td>\n",
       "      <td>Sim Bhullar</td>\n",
       "      <td>C</td>\n",
       "      <td>7-5</td>\n",
       "      <td>360</td>\n",
       "      <td>December 2, 1992</td>\n",
       "      <td>R</td>\n",
       "      <td>New Mexico State University</td>\n",
       "      <td>89</td>\n",
       "      <td>...</td>\n",
       "      <td>NaN</td>\n",
       "      <td>0</td>\n",
       "      <td>1</td>\n",
       "      <td>1</td>\n",
       "      <td>1</td>\n",
       "      <td>0</td>\n",
       "      <td>1</td>\n",
       "      <td>0</td>\n",
       "      <td>0</td>\n",
       "      <td>2</td>\n",
       "    </tr>\n",
       "  </tbody>\n",
       "</table>\n",
       "<p>1 rows × 36 columns</p>\n",
       "</div>"
      ],
      "text/plain": [
       "    Team  No       Player Pos   Ht   Wt        Birth_Date Exp  \\\n",
       "307  SAC  32  Sim Bhullar   C  7-5  360  December 2, 1992   R   \n",
       "\n",
       "                         College  ht_in ...   FT_PCT  ORB  DRB  TRB  AST  STL  \\\n",
       "307  New Mexico State University     89 ...      NaN    0    1    1    1    0   \n",
       "\n",
       "     BLK  TOV  PF  PTS  \n",
       "307    1    0   0    2  \n",
       "\n",
       "[1 rows x 36 columns]"
      ]
     },
     "execution_count": 7,
     "metadata": {},
     "output_type": "execute_result"
    }
   ],
   "source": [
    "# which player is the tallest?\n",
    "data[data.ht_in == data.ht_in.max()]"
   ]
  },
  {
   "cell_type": "code",
   "execution_count": 50,
   "metadata": {
    "collapsed": false
   },
   "outputs": [
    {
     "data": {
      "text/html": [
       "<div>\n",
       "<table border=\"1\" class=\"dataframe\">\n",
       "  <thead>\n",
       "    <tr style=\"text-align: right;\">\n",
       "      <th></th>\n",
       "      <th>Team</th>\n",
       "      <th>No</th>\n",
       "      <th>Player</th>\n",
       "      <th>Pos</th>\n",
       "      <th>Ht</th>\n",
       "      <th>Wt</th>\n",
       "      <th>Birth_Date</th>\n",
       "      <th>Exp</th>\n",
       "      <th>College</th>\n",
       "      <th>ht_in</th>\n",
       "      <th>...</th>\n",
       "      <th>FT_PCT</th>\n",
       "      <th>ORB</th>\n",
       "      <th>DRB</th>\n",
       "      <th>TRB</th>\n",
       "      <th>AST</th>\n",
       "      <th>STL</th>\n",
       "      <th>BLK</th>\n",
       "      <th>TOV</th>\n",
       "      <th>PF</th>\n",
       "      <th>PTS</th>\n",
       "    </tr>\n",
       "  </thead>\n",
       "  <tbody>\n",
       "    <tr>\n",
       "      <th>104</th>\n",
       "      <td>BOS</td>\n",
       "      <td>4</td>\n",
       "      <td>Isaiah Thomas</td>\n",
       "      <td>PG</td>\n",
       "      <td>5-9</td>\n",
       "      <td>185</td>\n",
       "      <td>February 7, 1989</td>\n",
       "      <td>3</td>\n",
       "      <td>University of Washington</td>\n",
       "      <td>69</td>\n",
       "      <td>...</td>\n",
       "      <td>0.861</td>\n",
       "      <td>7</td>\n",
       "      <td>37</td>\n",
       "      <td>44</td>\n",
       "      <td>113</td>\n",
       "      <td>12</td>\n",
       "      <td>0</td>\n",
       "      <td>54</td>\n",
       "      <td>45</td>\n",
       "      <td>400</td>\n",
       "    </tr>\n",
       "    <tr>\n",
       "      <th>259</th>\n",
       "      <td>LAC</td>\n",
       "      <td>8</td>\n",
       "      <td>Nate Robinson</td>\n",
       "      <td>PG</td>\n",
       "      <td>5-9</td>\n",
       "      <td>180</td>\n",
       "      <td>May 31, 1984</td>\n",
       "      <td>9</td>\n",
       "      <td>University of Washington</td>\n",
       "      <td>69</td>\n",
       "      <td>...</td>\n",
       "      <td>0.833</td>\n",
       "      <td>3</td>\n",
       "      <td>8</td>\n",
       "      <td>11</td>\n",
       "      <td>20</td>\n",
       "      <td>6</td>\n",
       "      <td>0</td>\n",
       "      <td>8</td>\n",
       "      <td>8</td>\n",
       "      <td>46</td>\n",
       "    </tr>\n",
       "    <tr>\n",
       "      <th>457</th>\n",
       "      <td>PHO</td>\n",
       "      <td>3</td>\n",
       "      <td>Isaiah Thomas</td>\n",
       "      <td>PG</td>\n",
       "      <td>5-9</td>\n",
       "      <td>185</td>\n",
       "      <td>February 7, 1989</td>\n",
       "      <td>3</td>\n",
       "      <td>University of Washington</td>\n",
       "      <td>69</td>\n",
       "      <td>...</td>\n",
       "      <td>0.872</td>\n",
       "      <td>26</td>\n",
       "      <td>83</td>\n",
       "      <td>109</td>\n",
       "      <td>171</td>\n",
       "      <td>45</td>\n",
       "      <td>5</td>\n",
       "      <td>89</td>\n",
       "      <td>105</td>\n",
       "      <td>701</td>\n",
       "    </tr>\n",
       "    <tr>\n",
       "      <th>482</th>\n",
       "      <td>DEN</td>\n",
       "      <td>5</td>\n",
       "      <td>Nate Robinson</td>\n",
       "      <td>PG</td>\n",
       "      <td>5-9</td>\n",
       "      <td>180</td>\n",
       "      <td>May 31, 1984</td>\n",
       "      <td>9</td>\n",
       "      <td>University of Washington</td>\n",
       "      <td>69</td>\n",
       "      <td>...</td>\n",
       "      <td>0.650</td>\n",
       "      <td>14</td>\n",
       "      <td>25</td>\n",
       "      <td>39</td>\n",
       "      <td>77</td>\n",
       "      <td>14</td>\n",
       "      <td>3</td>\n",
       "      <td>22</td>\n",
       "      <td>68</td>\n",
       "      <td>192</td>\n",
       "    </tr>\n",
       "  </tbody>\n",
       "</table>\n",
       "<p>4 rows × 36 columns</p>\n",
       "</div>"
      ],
      "text/plain": [
       "    Team  No         Player Pos   Ht   Wt        Birth_Date Exp  \\\n",
       "104  BOS   4  Isaiah Thomas  PG  5-9  185  February 7, 1989   3   \n",
       "259  LAC   8  Nate Robinson  PG  5-9  180      May 31, 1984   9   \n",
       "457  PHO   3  Isaiah Thomas  PG  5-9  185  February 7, 1989   3   \n",
       "482  DEN   5  Nate Robinson  PG  5-9  180      May 31, 1984   9   \n",
       "\n",
       "                      College  ht_in ...   FT_PCT  ORB  DRB  TRB  AST  STL  \\\n",
       "104  University of Washington     69 ...    0.861    7   37   44  113   12   \n",
       "259  University of Washington     69 ...    0.833    3    8   11   20    6   \n",
       "457  University of Washington     69 ...    0.872   26   83  109  171   45   \n",
       "482  University of Washington     69 ...    0.650   14   25   39   77   14   \n",
       "\n",
       "     BLK  TOV   PF  PTS  \n",
       "104    0   54   45  400  \n",
       "259    0    8    8   46  \n",
       "457    5   89  105  701  \n",
       "482    3   22   68  192  \n",
       "\n",
       "[4 rows x 36 columns]"
      ]
     },
     "execution_count": 50,
     "metadata": {},
     "output_type": "execute_result"
    }
   ],
   "source": [
    "# which player is the shortest?\n",
    "data[data.ht_in == data.ht_in.min()]"
   ]
  },
  {
   "cell_type": "code",
   "execution_count": 15,
   "metadata": {
    "collapsed": false
   },
   "outputs": [
    {
     "data": {
      "text/plain": [
       "Team\n",
       "GSW    79.800000\n",
       "TOR    79.666667\n",
       "MIN    79.520000\n",
       "BRK    79.473684\n",
       "IND    79.375000\n",
       "Name: ht_in, dtype: float64"
      ]
     },
     "execution_count": 15,
     "metadata": {},
     "output_type": "execute_result"
    }
   ],
   "source": [
    "# which team was the tallest by roster?\n",
    "team_data = data.groupby('Team').ht_in.mean()\n",
    "team_data.sort('ht_in',ascending=False)\n",
    "team_data.head()"
   ]
  },
  {
   "cell_type": "code",
   "execution_count": 16,
   "metadata": {
    "collapsed": false,
    "scrolled": false
   },
   "outputs": [
    {
     "data": {
      "text/plain": [
       "Team\n",
       "CHO    77.823529\n",
       "PHO    77.913043\n",
       "LAC    78.000000\n",
       "DEN    78.150000\n",
       "NOP    78.190476\n",
       "Name: ht_in, dtype: float64"
      ]
     },
     "execution_count": 16,
     "metadata": {},
     "output_type": "execute_result"
    }
   ],
   "source": [
    "# which teams are the shortest by roster?\n",
    "team_data.sort('ht_in',ascending=True)\n",
    "team_data.head()"
   ]
  },
  {
   "cell_type": "code",
   "execution_count": 48,
   "metadata": {
    "collapsed": false
   },
   "outputs": [
    {
     "data": {
      "text/plain": [
       "Team\n",
       "PHI    79.667104\n",
       "UTA    79.621162\n",
       "MIN    79.422852\n",
       "IND    79.417930\n",
       "NOP    79.395511\n",
       "WAS    79.393616\n",
       "ORL    79.385776\n",
       "POR    79.385073\n",
       "MIL    79.369361\n",
       "CHI    79.361602\n",
       "CLE    79.193994\n",
       "LAL    79.133805\n",
       "MEM    79.098875\n",
       "GSW    79.051039\n",
       "BRK    79.048424\n",
       "Name: Weighted_ht, dtype: float64"
      ]
     },
     "execution_count": 48,
     "metadata": {},
     "output_type": "execute_result"
    }
   ],
   "source": [
    "# which team was tallest adjusted for playing time?\n",
    "MP_team = data.groupby('Team').MP.sum() \n",
    "MP_team = MP_team.reset_index()\n",
    "MP_team = MP_team.rename(columns={'MP':'MP_Team'})\n",
    "MP_team.head()\n",
    "\n",
    "MP_df = pd.merge(data,MP_team,on ='Team',how='left')\n",
    "MP_df['Weighted_ht'] = MP_df['ht_in'] * MP_df['MP'] / MP_df['MP_Team']\n",
    "team_MP_data = MP_df.groupby('Team').Weighted_ht.sum()\n",
    "team_MP_data.sort('Weighted_ht',ascending=False)\n",
    "team_MP_data.head(15)"
   ]
  },
  {
   "cell_type": "code",
   "execution_count": 49,
   "metadata": {
    "collapsed": false
   },
   "outputs": [
    {
     "data": {
      "text/plain": [
       "Team\n",
       "DEN    78.129219\n",
       "CHO    78.144185\n",
       "PHO    78.259772\n",
       "MIA    78.450588\n",
       "BOS    78.515191\n",
       "ATL    78.523616\n",
       "LAC    78.558996\n",
       "DET    78.651838\n",
       "NYK    78.694485\n",
       "TOR    78.738454\n",
       "SAS    78.791230\n",
       "HOU    78.895375\n",
       "OKC    78.928247\n",
       "DAL    78.939892\n",
       "SAC    78.956787\n",
       "Name: Weighted_ht, dtype: float64"
      ]
     },
     "execution_count": 49,
     "metadata": {},
     "output_type": "execute_result"
    }
   ],
   "source": [
    "# which team was the shortest adjusted for playing time?\n",
    "team_MP_data.sort('Weighted_ht',ascending=True)\n",
    "team_MP_data.head(15)"
   ]
  },
  {
   "cell_type": "code",
   "execution_count": 70,
   "metadata": {
    "collapsed": false
   },
   "outputs": [
    {
     "data": {
      "text/plain": [
       "Team\n",
       "NOP    37.380042\n",
       "TOR    37.016721\n",
       "LAL    35.384708\n",
       "PHO    35.227074\n",
       "CHI    34.386148\n",
       "NYK    33.610728\n",
       "SAC    32.735029\n",
       "IND    32.448351\n",
       "DET    32.437636\n",
       "ATL    32.398692\n",
       "CHO    32.372268\n",
       "WAS    31.978653\n",
       "SAS    31.608519\n",
       "LAC    31.322250\n",
       "UTA    31.130322\n",
       "POR    31.113014\n",
       "MEM    31.028236\n",
       "ORL    30.908783\n",
       "BRK    30.826224\n",
       "OKC    30.661658\n",
       "BOS    30.134759\n",
       "PHI    30.006312\n",
       "MIN    29.196860\n",
       "DAL    28.967356\n",
       "CLE    28.633146\n",
       "HOU    28.574177\n",
       "DEN    28.550727\n",
       "GSW    28.430258\n",
       "MIL    22.817051\n",
       "MIA    22.605311\n",
       "Name: Weighted_ht, dtype: float64"
      ]
     },
     "execution_count": 70,
     "metadata": {},
     "output_type": "execute_result"
    }
   ],
   "source": [
    "# which team plays the tallest at the 4 & 5?\n",
    "#MP_df_bm1 = MP_df[MP_df.Pos == 'PF']\n",
    "#MP_df_bm2 = MP_df[MP_df.Pos == 'C']\n",
    "#MP_df_bm = pd.concat((MP_df_bm1,MP_df_bm2),axis=0)\n",
    "#MP_df_bm.head()\n",
    "\n",
    "#MP_df_bm = MP_df_bm.groupby('Team').Weighted_ht.sum()\n",
    "#MP_df_bm.sort('Weighted_ht',ascending=False)\n",
    "#MP_df_bm.head(30)\n",
    "\n",
    "# THIS DID NOT WORK\n",
    "# some teams will play a SF at the four thus making the output meaningless"
   ]
  },
  {
   "cell_type": "code",
   "execution_count": 72,
   "metadata": {
    "collapsed": false
   },
   "outputs": [
    {
     "data": {
      "text/html": [
       "<div>\n",
       "<table border=\"1\" class=\"dataframe\">\n",
       "  <thead>\n",
       "    <tr style=\"text-align: right;\">\n",
       "      <th></th>\n",
       "      <th>Team</th>\n",
       "      <th>No</th>\n",
       "      <th>Player</th>\n",
       "      <th>Pos</th>\n",
       "      <th>Ht</th>\n",
       "      <th>Wt</th>\n",
       "      <th>Birth_Date</th>\n",
       "      <th>Exp</th>\n",
       "      <th>College</th>\n",
       "      <th>ht_in</th>\n",
       "      <th>...</th>\n",
       "      <th>FT_PCT</th>\n",
       "      <th>ORB</th>\n",
       "      <th>DRB</th>\n",
       "      <th>TRB</th>\n",
       "      <th>AST</th>\n",
       "      <th>STL</th>\n",
       "      <th>BLK</th>\n",
       "      <th>TOV</th>\n",
       "      <th>PF</th>\n",
       "      <th>PTS</th>\n",
       "    </tr>\n",
       "  </thead>\n",
       "  <tbody>\n",
       "    <tr>\n",
       "      <th>307</th>\n",
       "      <td>SAC</td>\n",
       "      <td>32</td>\n",
       "      <td>Sim Bhullar</td>\n",
       "      <td>C</td>\n",
       "      <td>7-5</td>\n",
       "      <td>360</td>\n",
       "      <td>December 2, 1992</td>\n",
       "      <td>R</td>\n",
       "      <td>New Mexico State University</td>\n",
       "      <td>89</td>\n",
       "      <td>...</td>\n",
       "      <td>NaN</td>\n",
       "      <td>0</td>\n",
       "      <td>1</td>\n",
       "      <td>1</td>\n",
       "      <td>1</td>\n",
       "      <td>0</td>\n",
       "      <td>1</td>\n",
       "      <td>0</td>\n",
       "      <td>0</td>\n",
       "      <td>2</td>\n",
       "    </tr>\n",
       "  </tbody>\n",
       "</table>\n",
       "<p>1 rows × 36 columns</p>\n",
       "</div>"
      ],
      "text/plain": [
       "    Team  No       Player Pos   Ht   Wt        Birth_Date Exp  \\\n",
       "307  SAC  32  Sim Bhullar   C  7-5  360  December 2, 1992   R   \n",
       "\n",
       "                         College  ht_in ...   FT_PCT  ORB  DRB  TRB  AST  STL  \\\n",
       "307  New Mexico State University     89 ...      NaN    0    1    1    1    0   \n",
       "\n",
       "     BLK  TOV  PF  PTS  \n",
       "307    1    0   0    2  \n",
       "\n",
       "[1 rows x 36 columns]"
      ]
     },
     "execution_count": 72,
     "metadata": {},
     "output_type": "execute_result"
    }
   ],
   "source": [
    "# which player weighs the most?\n",
    "data[data.Wt == data.Wt.max()]\n"
   ]
  },
  {
   "cell_type": "code",
   "execution_count": 73,
   "metadata": {
    "collapsed": false
   },
   "outputs": [
    {
     "data": {
      "text/html": [
       "<div>\n",
       "<table border=\"1\" class=\"dataframe\">\n",
       "  <thead>\n",
       "    <tr style=\"text-align: right;\">\n",
       "      <th></th>\n",
       "      <th>Team</th>\n",
       "      <th>No</th>\n",
       "      <th>Player</th>\n",
       "      <th>Pos</th>\n",
       "      <th>Ht</th>\n",
       "      <th>Wt</th>\n",
       "      <th>Birth_Date</th>\n",
       "      <th>Exp</th>\n",
       "      <th>College</th>\n",
       "      <th>ht_in</th>\n",
       "      <th>...</th>\n",
       "      <th>FT_PCT</th>\n",
       "      <th>ORB</th>\n",
       "      <th>DRB</th>\n",
       "      <th>TRB</th>\n",
       "      <th>AST</th>\n",
       "      <th>STL</th>\n",
       "      <th>BLK</th>\n",
       "      <th>TOV</th>\n",
       "      <th>PF</th>\n",
       "      <th>PTS</th>\n",
       "    </tr>\n",
       "  </thead>\n",
       "  <tbody>\n",
       "    <tr>\n",
       "      <th>309</th>\n",
       "      <td>SAC</td>\n",
       "      <td>7</td>\n",
       "      <td>Darren Collison</td>\n",
       "      <td>PG</td>\n",
       "      <td>6-0</td>\n",
       "      <td>160</td>\n",
       "      <td>August 23, 1987</td>\n",
       "      <td>5</td>\n",
       "      <td>University of California, Los Angeles</td>\n",
       "      <td>72</td>\n",
       "      <td>...</td>\n",
       "      <td>0.788</td>\n",
       "      <td>19</td>\n",
       "      <td>124</td>\n",
       "      <td>143</td>\n",
       "      <td>252</td>\n",
       "      <td>67</td>\n",
       "      <td>14</td>\n",
       "      <td>112</td>\n",
       "      <td>95</td>\n",
       "      <td>725</td>\n",
       "    </tr>\n",
       "  </tbody>\n",
       "</table>\n",
       "<p>1 rows × 36 columns</p>\n",
       "</div>"
      ],
      "text/plain": [
       "    Team  No           Player Pos   Ht   Wt       Birth_Date Exp  \\\n",
       "309  SAC   7  Darren Collison  PG  6-0  160  August 23, 1987   5   \n",
       "\n",
       "                                   College  ht_in ...   FT_PCT  ORB  DRB  TRB  \\\n",
       "309  University of California, Los Angeles     72 ...    0.788   19  124  143   \n",
       "\n",
       "     AST  STL  BLK  TOV  PF  PTS  \n",
       "309  252   67   14  112  95  725  \n",
       "\n",
       "[1 rows x 36 columns]"
      ]
     },
     "execution_count": 73,
     "metadata": {},
     "output_type": "execute_result"
    }
   ],
   "source": [
    "# which player weighs the least?\n",
    "data[data.Wt == data.Wt.min()]"
   ]
  },
  {
   "cell_type": "code",
   "execution_count": 76,
   "metadata": {
    "collapsed": false
   },
   "outputs": [
    {
     "data": {
      "text/plain": [
       "Team\n",
       "CLE    226.250000\n",
       "SAC    224.315789\n",
       "ATL    222.625000\n",
       "MIN    221.400000\n",
       "MEM    220.789474\n",
       "Name: Wt, dtype: float64"
      ]
     },
     "execution_count": 76,
     "metadata": {},
     "output_type": "execute_result"
    }
   ],
   "source": [
    "# which team was the heaviest by roster?\n",
    "weight_data = data.groupby('Team').Wt.mean()\n",
    "weight_data.sort('Wt',ascending=False)\n",
    "weight_data.head()"
   ]
  },
  {
   "cell_type": "code",
   "execution_count": 78,
   "metadata": {
    "collapsed": false
   },
   "outputs": [
    {
     "data": {
      "text/plain": [
       "Team\n",
       "NOP    210.285714\n",
       "PHO    211.217391\n",
       "UTA    211.727273\n",
       "PHI    212.000000\n",
       "CHI    212.285714\n",
       "Name: Wt, dtype: float64"
      ]
     },
     "execution_count": 78,
     "metadata": {},
     "output_type": "execute_result"
    }
   ],
   "source": [
    "# which team was the lightest by roster?\n",
    "weight_data.sort('Wt',ascending=True)\n",
    "weight_data.head()"
   ]
  },
  {
   "cell_type": "code",
   "execution_count": 79,
   "metadata": {
    "collapsed": false
   },
   "outputs": [
    {
     "data": {
      "text/plain": [
       "Team\n",
       "CLE    226.571566\n",
       "MEM    225.366459\n",
       "BRK    224.027599\n",
       "DET    222.235739\n",
       "BOS    221.493461\n",
       "WAS    221.323311\n",
       "NOP    221.279092\n",
       "SAC    221.251775\n",
       "IND    221.158247\n",
       "OKC    221.066257\n",
       "ORL    220.859074\n",
       "CHO    220.631600\n",
       "LAC    219.889407\n",
       "DEN    219.040793\n",
       "POR    218.452659\n",
       "ATL    218.386580\n",
       "LAL    218.266155\n",
       "NYK    217.258675\n",
       "PHO    217.182806\n",
       "MIL    215.862412\n",
       "UTA    215.576808\n",
       "SAS    215.440842\n",
       "PHI    213.711494\n",
       "MIN    213.419014\n",
       "TOR    213.239990\n",
       "MIA    212.251470\n",
       "GSW    211.842575\n",
       "HOU    211.613462\n",
       "CHI    210.302148\n",
       "DAL    206.623862\n",
       "Name: Weighted_wt, dtype: float64"
      ]
     },
     "execution_count": 79,
     "metadata": {},
     "output_type": "execute_result"
    }
   ],
   "source": [
    "# which team was the heaviest adjusted for minutes played?\n",
    "MP_df['Weighted_wt'] = MP_df['Wt'] * MP_df['MP'] / MP_df['MP_Team']\n",
    "team_MP_data = MP_df.groupby('Team').Weighted_wt.sum()\n",
    "team_MP_data.sort('Weighted_wt',ascending=False)\n",
    "team_MP_data.head(30)"
   ]
  },
  {
   "cell_type": "code",
   "execution_count": 80,
   "metadata": {
    "collapsed": false
   },
   "outputs": [
    {
     "data": {
      "text/plain": [
       "Pos\n",
       "C     83.204545\n",
       "PF    81.323077\n",
       "PG    74.000000\n",
       "SF    79.896226\n",
       "SG    77.155039\n",
       "Name: ht_in, dtype: float64"
      ]
     },
     "execution_count": 80,
     "metadata": {},
     "output_type": "execute_result"
    }
   ],
   "source": [
    "# average height by position in the NBA\n",
    "MP_df.groupby('Pos').ht_in.mean()"
   ]
  },
  {
   "cell_type": "code",
   "execution_count": 81,
   "metadata": {
    "collapsed": false
   },
   "outputs": [
    {
     "data": {
      "text/plain": [
       "Pos\n",
       "C     249.590909\n",
       "PF    237.515385\n",
       "PG    185.959016\n",
       "SF    217.311321\n",
       "SG    202.922481\n",
       "Name: Wt, dtype: float64"
      ]
     },
     "execution_count": 81,
     "metadata": {},
     "output_type": "execute_result"
    }
   ],
   "source": [
    "# average weight by position in the NBA\n",
    "MP_df.groupby('Pos').Wt.mean()"
   ]
  },
  {
   "cell_type": "code",
   "execution_count": null,
   "metadata": {
    "collapsed": true
   },
   "outputs": [],
   "source": []
  }
 ],
 "metadata": {
  "kernelspec": {
   "display_name": "Python 2",
   "language": "python",
   "name": "python2"
  },
  "language_info": {
   "codemirror_mode": {
    "name": "ipython",
    "version": 2
   },
   "file_extension": ".py",
   "mimetype": "text/x-python",
   "name": "python",
   "nbconvert_exporter": "python",
   "pygments_lexer": "ipython2",
   "version": "2.7.10"
  }
 },
 "nbformat": 4,
 "nbformat_minor": 0
}
